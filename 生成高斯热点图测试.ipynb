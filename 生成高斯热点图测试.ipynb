{
 "cells": [
  {
   "cell_type": "code",
   "execution_count": 1,
   "metadata": {},
   "outputs": [],
   "source": [
    "import numpy as np\n",
    "from matplotlib import pyplot as plt\n",
    "import cv2"
   ]
  },
  {
   "cell_type": "code",
   "execution_count": 44,
   "metadata": {
    "code_folding": [
     0,
     10
    ]
   },
   "outputs": [],
   "source": [
    "def creat_gauss_kernel(ksize, sigma, min_response = 0.001):\n",
    "    x = cv2.getGaussianKernel(ksize=ksize, sigma=sigma)\n",
    "    y = cv2.getGaussianKernel(ksize=ksize, sigma=sigma)\n",
    "    mat = np.multiply(x, np.transpose(y))\n",
    "    center = ksize//2\n",
    "    rate = 1/mat[center][center]\n",
    "    mat = mat * rate\n",
    "    mat = np.where(mat>min_response, mat, 0)\n",
    "    return mat\n",
    "\n",
    "def creat_heatmap(points, img_w, img_h, ksize = 101, sigma = 20):\n",
    "    mat = creat_gauss_kernel(ksize, sigma)\n",
    "    r = ksize // 2\n",
    "    heat_map = np.zeros((img_h, img_w))\n",
    "    for point in points:\n",
    "        top = point[1] - r\n",
    "        bottom = img_h - (point[1] + r)\n",
    "        left = point[0] - r\n",
    "        right = img_w - (point[0] + r)\n",
    "        \n",
    "        pad = [top if top > 0 else 0,\n",
    "               bottom if bottom > 0 else 0,\n",
    "               left if left > 0 else 0,\n",
    "               right if right > 0 else 0]\n",
    "        tmp_map = cv2.copyMakeBorder(mat, pad[0], pad[1], pad[2], pad[3], cv2.BORDER_CONSTANT, value=0)\n",
    "        \n",
    "        tl = [-top if top < 0 else 0,\n",
    "              -left if left < 0 else 0]\n",
    "        tmp_map = tmp_map[tl[0]:tl[0]+img_h, tl[1]:tl[1]+img_w]\n",
    "        heat_map += tmp_map\n",
    "    \n",
    "    return heat_map"
   ]
  },
  {
   "cell_type": "code",
   "execution_count": 49,
   "metadata": {},
   "outputs": [],
   "source": [
    "points = [[-10,-10], [100,100], [200,200],[300,300],[400,400], [610,800]]\n",
    "img_w = 600\n",
    "img_h = 800\n",
    "heat_map = creat_heatmap(points, img_w, img_h)"
   ]
  },
  {
   "cell_type": "code",
   "execution_count": 50,
   "metadata": {},
   "outputs": [
    {
     "data": {
      "text/plain": [
       "<matplotlib.image.AxesImage at 0x7f0766b04b38>"
      ]
     },
     "execution_count": 50,
     "metadata": {},
     "output_type": "execute_result"
    },
    {
     "data": {
      "image/png": "[encoded data removed]",
      "text/plain": [
       "<Figure size 432x288 with 1 Axes>"
      ]
     },
     "metadata": {},
     "output_type": "display_data"
    }
   ],
   "source": [
    "plt.imshow(heat_map)"
   ]
  },
  {
   "cell_type": "code",
   "execution_count": 35,
   "metadata": {},
   "outputs": [
    {
     "data": {
      "text/plain": [
       "array([[0., 0., 0., ..., 0., 0., 0.],\n",
       "       [0., 0., 0., ..., 0., 0., 0.],\n",
       "       [0., 0., 0., ..., 0., 0., 0.],\n",
       "       ...,\n",
       "       [0., 0., 0., ..., 0., 0., 0.],\n",
       "       [0., 0., 0., ..., 0., 0., 0.],\n",
       "       [0., 0., 0., ..., 0., 0., 0.]])"
      ]
     },
     "execution_count": 35,
     "metadata": {},
     "output_type": "execute_result"
    }
   ],
   "source": [
    "gauss_kernel"
   ]
  },
  {
   "cell_type": "code",
   "execution_count": null,
   "metadata": {},
   "outputs": [],
   "source": []
  }
 ],
 "metadata": {
  "kernelspec": {
   "display_name": "Python 3",
   "language": "python",
   "name": "python3"
  },
  "language_info": {
   "codemirror_mode": {
    "name": "ipython",
    "version": 3
   },
   "file_extension": ".py",
   "mimetype": "text/x-python",
   "name": "python",
   "nbconvert_exporter": "python",
   "pygments_lexer": "ipython3",
   "version": "3.6.5"
  },
  "toc": {
   "base_numbering": 1,
   "nav_menu": {},
   "number_sections": true,
   "sideBar": true,
   "skip_h1_title": false,
   "title_cell": "Table of Contents",
   "title_sidebar": "Contents",
   "toc_cell": false,
   "toc_position": {},
   "toc_section_display": true,
   "toc_window_display": false
  }
 },
 "nbformat": 4,
 "nbformat_minor": 2
}
